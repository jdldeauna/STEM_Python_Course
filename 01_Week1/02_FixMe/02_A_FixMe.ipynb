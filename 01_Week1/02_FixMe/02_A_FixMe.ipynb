{
 "cells": [
  {
   "cell_type": "code",
   "execution_count": null,
   "metadata": {},
   "outputs": [],
   "source": [
    "%matplotlib inline\n",
    "# https://inventwithpython.com/blog/2012/07/09/16-common-python-runtime-errors-beginners-find/"
   ]
  },
  {
   "cell_type": "markdown",
   "metadata": {},
   "source": [
    "## Fixing Broken Code\n",
    "\n",
    "The following code snipets don't work. Follow along with the [flow chart](https://pythonforbiologists.com/29-common-beginner-errors-on-one-page) and use google and stackoverflow to get these pieces of code working properly."
   ]
  },
  {
   "cell_type": "code",
   "execution_count": 1,
   "metadata": {},
   "outputs": [
    {
     "name": "stdout",
     "output_type": "stream",
     "text": [
      "Hello\n",
      "world\n"
     ]
    }
   ],
   "source": [
    "print(\"Hello\")\n",
    "#    print(\"world\") - must not be indented\n",
    "print(\"world\")"
   ]
  },
  {
   "cell_type": "code",
   "execution_count": 5,
   "metadata": {},
   "outputs": [
    {
     "name": "stdout",
     "output_type": "stream",
     "text": [
      "Hello World\n"
     ]
    }
   ],
   "source": [
    "#def Hello() - must have a colon at the end, call function at the end of code to run\n",
    "def Hello():\n",
    "    print(\"Hello World\")\n",
    "\n",
    "Hello()"
   ]
  },
  {
   "cell_type": "code",
   "execution_count": 9,
   "metadata": {},
   "outputs": [
    {
     "name": "stdout",
     "output_type": "stream",
     "text": [
      "biology\n",
      "physics\n",
      "chemistry\n"
     ]
    }
   ],
   "source": [
    "science = ['biology', 'physics', 'chemistry']\n",
    "#for i in range(science): - must use the length of science\n",
    "for i in range(len(science)):\n",
    "    print(science[i])"
   ]
  },
  {
   "cell_type": "code",
   "execution_count": 14,
   "metadata": {},
   "outputs": [
    {
     "name": "stdout",
     "output_type": "stream",
     "text": [
      "chemistry\n"
     ]
    }
   ],
   "source": [
    "#print(science(3)) - must use closed brackets, and index within range of length of the list 'science'\n",
    "\n",
    "print(science[2])"
   ]
  },
  {
   "cell_type": "code",
   "execution_count": 16,
   "metadata": {},
   "outputs": [
    {
     "name": "stdout",
     "output_type": "stream",
     "text": [
      "M\n"
     ]
    }
   ],
   "source": [
    "spam = 'My favorite food is Spam!'\n",
    "\n",
    "#print(spam[40]) - must use index within range (count the number of characters in the statement)\n",
    "print(spam[0])"
   ]
  },
  {
   "cell_type": "code",
   "execution_count": 19,
   "metadata": {},
   "outputs": [
    {
     "name": "stdout",
     "output_type": "stream",
     "text": [
      "My favorite number is 4 !\n"
     ]
    }
   ],
   "source": [
    "#print(\"My favorite number is \" + 4 + \"!\") - can't use + in this way for integers\n",
    "print(\"My favorite number is 4 !\")"
   ]
  },
  {
   "cell_type": "code",
   "execution_count": 21,
   "metadata": {},
   "outputs": [
    {
     "name": "stdout",
     "output_type": "stream",
     "text": [
      "My name is  Monty Python. How are you?\n"
     ]
    }
   ],
   "source": [
    "myName = 'Monty Python'\n",
    "\n",
    "#print('My name is ' + myName + . How are you?') - must put strings within ''\n",
    "print('My name is  ' + myName + '. How are you?')"
   ]
  },
  {
   "cell_type": "code",
   "execution_count": 24,
   "metadata": {},
   "outputs": [
    {
     "name": "stdout",
     "output_type": "stream",
     "text": [
      "['biology', 'physics', 'chemistry']\n"
     ]
    }
   ],
   "source": [
    "#class = ['biology', 'physics', 'chemistry'] - class is predefined by Python\n",
    "Class = ['biology', 'physics', 'chemistry']\n",
    "print(Class)"
   ]
  },
  {
   "cell_type": "code",
   "execution_count": 25,
   "metadata": {},
   "outputs": [
    {
     "name": "stdout",
     "output_type": "stream",
     "text": [
      "Wow you got the answer!\n",
      "Wrong Answer\n"
     ]
    }
   ],
   "source": [
    "def answer(MyAnswer):\n",
    "    #if MyAnswer = 42: - must use double = sign\n",
    "    if MyAnswer == 42:\n",
    "        print(\"Wow you got the answer!\")\n",
    "    else:\n",
    "        print(\"Wrong Answer\")\n",
    "        \n",
    "answer(42)\n",
    "#answer() - must have a number inside\n",
    "answer(7)"
   ]
  },
  {
   "cell_type": "code",
   "execution_count": 26,
   "metadata": {},
   "outputs": [
    {
     "data": {
      "text/plain": [
       "['good', 'Bye', 'Bye', 'Bye']"
      ]
     },
     "execution_count": 26,
     "metadata": {},
     "output_type": "execute_result"
    }
   ],
   "source": [
    "output = ['good'] # must define output first\n",
    "def goodBye():\n",
    "    for i in range(0,3):\n",
    "        output.append(\"Bye\")\n",
    "    return output\n",
    "        \n",
    "goodBye()"
   ]
  },
  {
   "cell_type": "code",
   "execution_count": 27,
   "metadata": {},
   "outputs": [
    {
     "data": {
      "text/plain": [
       "19097"
      ]
     },
     "execution_count": 27,
     "metadata": {},
     "output_type": "execute_result"
    }
   ],
   "source": [
    "import numpy as np # must define np first\n",
    "def my_random_number():\n",
    "    return np.random.randint(0, 1E5)\n",
    "\n",
    "my_random_number()"
   ]
  },
  {
   "cell_type": "code",
   "execution_count": 30,
   "metadata": {},
   "outputs": [
    {
     "name": "stdout",
     "output_type": "stream",
     "text": [
      "0\n",
      "10\n",
      "20\n",
      "30\n",
      "40\n",
      "50\n",
      "60\n",
      "70\n",
      "80\n",
      "90\n"
     ]
    }
   ],
   "source": [
    "for i in range(0,100):\n",
    "    if i % 10 == 0:\n",
    "#print(i) - must be indented\n",
    "        print(i)"
   ]
  },
  {
   "cell_type": "code",
   "execution_count": 31,
   "metadata": {},
   "outputs": [
    {
     "name": "stdout",
     "output_type": "stream",
     "text": [
      "biology-python\n",
      "physics-biology\n",
      "chemistry-physics\n",
      "python-chemistry\n"
     ]
    }
   ],
   "source": [
    "my_class = ['biology', 'physics', 'chemistry', 'python']\n",
    "\n",
    "for i in range(len(my_class)):\n",
    "    #print(my_class[i]+\"-\"+my_class[i+1])\n",
    "    print(my_class[i]+\"-\"+my_class[i-1])"
   ]
  },
  {
   "cell_type": "markdown",
   "metadata": {},
   "source": [
    "## Handling Errors\n",
    "\n",
    "Sometime we will run into errors that we need to check for and handle.\n",
    "\n",
    "Try fixing these errors with if statements or [try except](https://docs.python.org/3/tutorial/errors.html) statements."
   ]
  },
  {
   "cell_type": "code",
   "execution_count": 33,
   "metadata": {},
   "outputs": [
    {
     "name": "stdout",
     "output_type": "stream",
     "text": [
      "0.14285714285714285\n",
      "0.2\n",
      "0.16666666666666666\n",
      "0.1111111111111111\n",
      "0.3333333333333333\n",
      "0.14285714285714285\n",
      "0.16666666666666666\n",
      "0.3333333333333333\n",
      "1.0\n",
      "0.125\n"
     ]
    }
   ],
   "source": [
    "def super_complex_calculation(number):\n",
    "    import numpy as np\n",
    "    return 1/np.random.randint(0, 10)\n",
    "\n",
    "for number in range(0,20):\n",
    "    try:\n",
    "        x = super_complex_calculation(number)\n",
    "        print(x)\n",
    "    except (ZeroDivisionError):\n",
    "        break"
   ]
  },
  {
   "cell_type": "code",
   "execution_count": null,
   "metadata": {},
   "outputs": [],
   "source": [
    "try:\n",
    "    pass\n",
    "except:\n",
    "    pass"
   ]
  },
  {
   "cell_type": "markdown",
   "metadata": {},
   "source": [
    "## Library Errors\n",
    "\n",
    "Errors from libraries can be long and complicatied.\n",
    "\n",
    "Tips for reading long errors:\n",
    "\n",
    "1) The top lines will show where in your code there is a problem\n",
    "\n",
    "2) At the bottom will be the error type and a small description\n",
    "\n",
    "3) Everything inbetween is the libraries code. Unless you wrote the library don't worry too much about it.\n"
   ]
  },
  {
   "cell_type": "markdown",
   "metadata": {},
   "source": [
    "## ===============================================================\n",
    "\n",
    "1) The top lines will show where in your code there is a problem:\n",
    "\n",
    "``` python\n",
    "---------------------------------------------------------------------------\n",
    "NameError                                 Traceback (most recent call last)\n",
    "<ipython-input-23-e52bc58c0cd7> in <module>\n",
    "      4     return x+y\n",
    "      5 \n",
    "----> 6 z = add()\n",
    "```\n",
    "2) At the bottom will be the error type and a small description\n",
    "\n",
    "```python\n",
    "NameError: name 'np' is not defined\n",
    "```"
   ]
  },
  {
   "cell_type": "code",
   "execution_count": 35,
   "metadata": {},
   "outputs": [],
   "source": [
    "import numpy as np # must define np first\n",
    "def add():\n",
    "    x = np.array([1, 2, 3])\n",
    "    y = np.array([4, 5, 6])\n",
    "    return x+y\n",
    "\n",
    "z = add()"
   ]
  },
  {
   "cell_type": "markdown",
   "metadata": {},
   "source": [
    "## ===============================================================\n",
    "\n",
    "1) The top lines will show where in your code there is a problem:\n",
    "\n",
    "``` python\n",
    "ValueError                                Traceback (most recent call last)\n",
    "<ipython-input-28-2ed152099238> in <module>\n",
    "      4     return y-x\n",
    "      5 \n",
    "----> 6 subtract()\n",
    "```\n",
    "2) At the bottom will be the error type and a small description\n",
    "\n",
    "```python\n",
    "ValueError: operands could not be broadcast together with shapes (4,) (3,) \n",
    "```"
   ]
  },
  {
   "cell_type": "code",
   "execution_count": 37,
   "metadata": {},
   "outputs": [
    {
     "data": {
      "text/plain": [
       "array([3, 3, 3, 3])"
      ]
     },
     "execution_count": 37,
     "metadata": {},
     "output_type": "execute_result"
    }
   ],
   "source": [
    "def subtract():\n",
    "    #x = np.array([1, 2, 3]) - lists must be of the same size for operations\n",
    "    x = np.array([1, 2, 3, 4])\n",
    "    y = np.array([4, 5, 6, 7])\n",
    "    return y-x\n",
    "\n",
    "subtract()"
   ]
  },
  {
   "cell_type": "markdown",
   "metadata": {},
   "source": [
    "## ===============================================================\n",
    "\n",
    "1) The top lines will show where in your code there is a problem:\n",
    "\n",
    "``` python\n",
    "---------------------------------------------------------------------------\n",
    "UFuncTypeError                            Traceback (most recent call last)\n",
    "<ipython-input-27-38bc2bf2be55> in <module>\n",
    "      4     return x*2\n",
    "      5 \n",
    "----> 6 z = add_2()\n",
    "```\n",
    "2) At the bottom will be the error type and a small description\n",
    "\n",
    "```python\n",
    "UFuncTypeError: ufunc 'add' did not contain a loop with signature matching types (dtype('<U21'), dtype('<U21')) -> dtype('<U21')\n",
    "```"
   ]
  },
  {
   "cell_type": "code",
   "execution_count": 40,
   "metadata": {},
   "outputs": [
    {
     "name": "stdout",
     "output_type": "stream",
     "text": [
      "[3 4 5]\n"
     ]
    }
   ],
   "source": [
    "def add_2():\n",
    "    #x = np.array([1, '2', 3]) - '2' must be an integer 2\n",
    "    x = np.array([1, 2, 3])\n",
    "    return x + 2\n",
    "\n",
    "z = add_2()\n",
    "print(z)"
   ]
  },
  {
   "cell_type": "markdown",
   "metadata": {},
   "source": [
    "## ===============================================================\n",
    "\n",
    "1) The top lines will show where in your code there is a problem:\n",
    "```python\n",
    "---------------------------------------------------------------------------\n",
    "TypeError                                 Traceback (most recent call last)\n",
    "<ipython-input-43-06e2c3fb7763> in <module>\n",
    "      1 hist = np.random.randint(0, 10, 1000)\n",
    "----> 2 plt.hist(hist, bins=3, range=4)\n",
    "      3 plt.show()\n",
    "```\n",
    "\n",
    "2) At the bottom will be the error type and a small description\n",
    "\n",
    "```python\n",
    "TypeError: cannot unpack non-iterable int object\n",
    "```\n",
    "\n",
    "Python is telling you that one of the input varialbe types in this function is wrong. It's useful to look at the documentation for the function to see what each of the types should be. (https://matplotlib.org/api/_as_gen/matplotlib.pyplot.hist.html)\n",
    "\n",
    "3) Everything inbetween is the libraries code. Unless you wrote the library don't worry too much about it."
   ]
  },
  {
   "cell_type": "code",
   "execution_count": 43,
   "metadata": {},
   "outputs": [
    {
     "data": {
      "image/png": "[encoded data removed]",
      "text/plain": [
       "<Figure size 432x288 with 1 Axes>"
      ]
     },
     "metadata": {
      "needs_background": "light"
     },
     "output_type": "display_data"
    }
   ],
   "source": [
    "import matplotlib.pyplot as plt\n",
    "\n",
    "random_hist = np.random.randint(0, 10, 1000)\n",
    "#plt.hist(random_hist, bins=10, range=4) - range must have a min and max value\n",
    "plt.hist(random_hist, bins=10, range=(1,4))\n",
    "plt.show()"
   ]
  },
  {
   "cell_type": "code",
   "execution_count": null,
   "metadata": {},
   "outputs": [],
   "source": []
  }
 ],
 "metadata": {
  "kernelspec": {
   "display_name": "Python 3",
   "language": "python",
   "name": "python3"
  },
  "language_info": {
   "codemirror_mode": {
    "name": "ipython",
    "version": 3
   },
   "file_extension": ".py",
   "mimetype": "text/x-python",
   "name": "python",
   "nbconvert_exporter": "python",
   "pygments_lexer": "ipython3",
   "version": "3.8.3"
  }
 },
 "nbformat": 4,
 "nbformat_minor": 2
}
