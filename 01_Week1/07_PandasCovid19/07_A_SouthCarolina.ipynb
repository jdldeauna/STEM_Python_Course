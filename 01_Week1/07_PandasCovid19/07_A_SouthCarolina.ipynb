{
 "cells": [
  {
   "cell_type": "code",
   "execution_count": 2,
   "metadata": {},
   "outputs": [],
   "source": [
    "%matplotlib inline\n",
    "# Load in some common libraries to do our analysis\n",
    "import numpy as np\n",
    "import pandas as pd\n",
    "import matplotlib.pyplot as plt\n",
    "from matplotlib.dates import DateFormatter, date2num\n",
    "import geopandas\n",
    "import seaborn as sns"
   ]
  },
  {
   "cell_type": "markdown",
   "metadata": {},
   "source": [
    "### Lets go get some data\n",
    "\n",
    "The new york times has a dataset which they share on their github page. We will look at the [historical data](https://github.com/nytimes/covid-19-data#historical-data) and we're going to select the [county level data](https://github.com/nytimes/covid-19-data#county-level-data) as it will let us breakdown based on seperate states and counties. They have links for the raw data which will let us easily download the data through pandas.\n"
   ]
  },
  {
   "cell_type": "code",
   "execution_count": 29,
   "metadata": {},
   "outputs": [],
   "source": [
    "# Load data from nytimes\n",
    "# We also tell pandas to treat the column names date as a special varialbe type \n",
    "# called a datetime which will make analysis easier\n",
    "\n",
    "df = pd.read_csv('https://raw.githubusercontent.com/nytimes/covid-19-data/master/us-counties.csv', \n",
    "                 parse_dates=['date'])"
   ]
  },
  {
   "cell_type": "markdown",
   "metadata": {},
   "source": [
    "Now lets look at the data using the [head](https://pandas.pydata.org/pandas-docs/stable/reference/api/pandas.DataFrame.head.html) command which shows off the first few rows of the dataframe."
   ]
  },
  {
   "cell_type": "code",
   "execution_count": 18,
   "metadata": {},
   "outputs": [
    {
     "data": {
      "text/plain": [
       "(55,)"
      ]
     },
     "execution_count": 18,
     "metadata": {},
     "output_type": "execute_result"
    }
   ],
   "source": [
    "#df.head(10) - shows top 10\n",
    "#df - shows all elements, might be annotated\n",
    "#df.head() - shows top 5\n",
    "#df['county'] - select for data under specific header\n",
    "#df.county - select for data under specific header\n",
    "#df['cases'] *2 - data frames allows for the numpy operations\n",
    "#df.state.unique() - list of all unique members of a column\n",
    "#len(df.state.unique()) - number of unique elements\n",
    "df.state.unique().shape #- gives you rows / columns of dataset"
   ]
  },
  {
   "cell_type": "markdown",
   "metadata": {},
   "source": [
    "Looks great except we're in South Carolina so it might be nice to just look at the data from here.\n",
    "\n",
    "We can select items from a dataframe by using boolean operators (`>, <, >=, <=, ==, !=`) for a specific column. It looks like we should be able to select on the state column and see which ones are equal to (`==`) \"South Carolina\""
   ]
  },
  {
   "cell_type": "code",
   "execution_count": 36,
   "metadata": {},
   "outputs": [
    {
     "data": {
      "text/plain": [
       "0         False\n",
       "1         False\n",
       "2         False\n",
       "3         False\n",
       "4         False\n",
       "          ...  \n",
       "359973    False\n",
       "359974    False\n",
       "359975    False\n",
       "359976    False\n",
       "359977    False\n",
       "Name: state, Length: 359978, dtype: bool"
      ]
     },
     "execution_count": 36,
     "metadata": {},
     "output_type": "execute_result"
    }
   ],
   "source": [
    "#df.state == 'South Carolina' - gives you false values\n",
    "#(df.state == 'South Carolina').unique() - array values\n",
    "(df.state == \"South Carolina\") | (df.state == \"North Carolina\")"
   ]
  },
  {
   "cell_type": "code",
   "execution_count": 39,
   "metadata": {},
   "outputs": [
    {
     "data": {
      "text/html": [
       "<div>\n",
       "<style scoped>\n",
       "    .dataframe tbody tr th:only-of-type {\n",
       "        vertical-align: middle;\n",
       "    }\n",
       "\n",
       "    .dataframe tbody tr th {\n",
       "        vertical-align: top;\n",
       "    }\n",
       "\n",
       "    .dataframe thead th {\n",
       "        text-align: right;\n",
       "    }\n",
       "</style>\n",
       "<table border=\"1\" class=\"dataframe\">\n",
       "  <thead>\n",
       "    <tr style=\"text-align: right;\">\n",
       "      <th></th>\n",
       "      <th>date</th>\n",
       "      <th>county</th>\n",
       "      <th>state</th>\n",
       "      <th>fips</th>\n",
       "      <th>cases</th>\n",
       "      <th>deaths</th>\n",
       "    </tr>\n",
       "  </thead>\n",
       "  <tbody>\n",
       "    <tr>\n",
       "      <th>359189</th>\n",
       "      <td>2020-07-22</td>\n",
       "      <td>Oconee</td>\n",
       "      <td>South Carolina</td>\n",
       "      <td>45073.0</td>\n",
       "      <td>585</td>\n",
       "      <td>2</td>\n",
       "    </tr>\n",
       "    <tr>\n",
       "      <th>359190</th>\n",
       "      <td>2020-07-22</td>\n",
       "      <td>Orangeburg</td>\n",
       "      <td>South Carolina</td>\n",
       "      <td>45075.0</td>\n",
       "      <td>1697</td>\n",
       "      <td>39</td>\n",
       "    </tr>\n",
       "    <tr>\n",
       "      <th>359191</th>\n",
       "      <td>2020-07-22</td>\n",
       "      <td>Pickens</td>\n",
       "      <td>South Carolina</td>\n",
       "      <td>45077.0</td>\n",
       "      <td>1484</td>\n",
       "      <td>16</td>\n",
       "    </tr>\n",
       "    <tr>\n",
       "      <th>359192</th>\n",
       "      <td>2020-07-22</td>\n",
       "      <td>Richland</td>\n",
       "      <td>South Carolina</td>\n",
       "      <td>45079.0</td>\n",
       "      <td>6581</td>\n",
       "      <td>116</td>\n",
       "    </tr>\n",
       "    <tr>\n",
       "      <th>359193</th>\n",
       "      <td>2020-07-22</td>\n",
       "      <td>Saluda</td>\n",
       "      <td>South Carolina</td>\n",
       "      <td>45081.0</td>\n",
       "      <td>366</td>\n",
       "      <td>4</td>\n",
       "    </tr>\n",
       "    <tr>\n",
       "      <th>359194</th>\n",
       "      <td>2020-07-22</td>\n",
       "      <td>Spartanburg</td>\n",
       "      <td>South Carolina</td>\n",
       "      <td>45083.0</td>\n",
       "      <td>3252</td>\n",
       "      <td>68</td>\n",
       "    </tr>\n",
       "    <tr>\n",
       "      <th>359195</th>\n",
       "      <td>2020-07-22</td>\n",
       "      <td>Sumter</td>\n",
       "      <td>South Carolina</td>\n",
       "      <td>45085.0</td>\n",
       "      <td>1877</td>\n",
       "      <td>35</td>\n",
       "    </tr>\n",
       "    <tr>\n",
       "      <th>359196</th>\n",
       "      <td>2020-07-22</td>\n",
       "      <td>Union</td>\n",
       "      <td>South Carolina</td>\n",
       "      <td>45087.0</td>\n",
       "      <td>238</td>\n",
       "      <td>0</td>\n",
       "    </tr>\n",
       "    <tr>\n",
       "      <th>359197</th>\n",
       "      <td>2020-07-22</td>\n",
       "      <td>Williamsburg</td>\n",
       "      <td>South Carolina</td>\n",
       "      <td>45089.0</td>\n",
       "      <td>671</td>\n",
       "      <td>18</td>\n",
       "    </tr>\n",
       "    <tr>\n",
       "      <th>359198</th>\n",
       "      <td>2020-07-22</td>\n",
       "      <td>York</td>\n",
       "      <td>South Carolina</td>\n",
       "      <td>45091.0</td>\n",
       "      <td>2571</td>\n",
       "      <td>17</td>\n",
       "    </tr>\n",
       "  </tbody>\n",
       "</table>\n",
       "</div>"
      ],
      "text/plain": [
       "             date        county           state     fips  cases  deaths\n",
       "359189 2020-07-22        Oconee  South Carolina  45073.0    585       2\n",
       "359190 2020-07-22    Orangeburg  South Carolina  45075.0   1697      39\n",
       "359191 2020-07-22       Pickens  South Carolina  45077.0   1484      16\n",
       "359192 2020-07-22      Richland  South Carolina  45079.0   6581     116\n",
       "359193 2020-07-22        Saluda  South Carolina  45081.0    366       4\n",
       "359194 2020-07-22   Spartanburg  South Carolina  45083.0   3252      68\n",
       "359195 2020-07-22        Sumter  South Carolina  45085.0   1877      35\n",
       "359196 2020-07-22         Union  South Carolina  45087.0    238       0\n",
       "359197 2020-07-22  Williamsburg  South Carolina  45089.0    671      18\n",
       "359198 2020-07-22          York  South Carolina  45091.0   2571      17"
      ]
     },
     "execution_count": 39,
     "metadata": {},
     "output_type": "execute_result"
    }
   ],
   "source": [
    "# Select South Carolina\n",
    "SC = df[df.state == \"South Carolina\"]\n",
    "# Select both Carolinas\n",
    "#Car = df[(df.state == \"South Carolina\") | (df.state == \"North Carolina\")]\n",
    "# Tail works similar to head but for the bottom of the list\n",
    "SC.tail(10)"
   ]
  },
  {
   "cell_type": "markdown",
   "metadata": {},
   "source": [
    "Now we have data for South Carolina but it's still not in the best format. We have each row as values for each date in each county. It might be more useful to use a [pivot](https://pandas.pydata.org/pandas-docs/stable/reference/api/pandas.DataFrame.pivot.html) function similar to pivots in excel in order to sum our cases per-day, per-county. We'll use our date as an index and have our county information as the columns so that we can easily plot them later."
   ]
  },
  {
   "cell_type": "code",
   "execution_count": 43,
   "metadata": {},
   "outputs": [
    {
     "data": {
      "text/html": [
       "<div>\n",
       "<style scoped>\n",
       "    .dataframe tbody tr th:only-of-type {\n",
       "        vertical-align: middle;\n",
       "    }\n",
       "\n",
       "    .dataframe tbody tr th {\n",
       "        vertical-align: top;\n",
       "    }\n",
       "\n",
       "    .dataframe thead th {\n",
       "        text-align: right;\n",
       "    }\n",
       "</style>\n",
       "<table border=\"1\" class=\"dataframe\">\n",
       "  <thead>\n",
       "    <tr style=\"text-align: right;\">\n",
       "      <th>county</th>\n",
       "      <th>Abbeville</th>\n",
       "      <th>Aiken</th>\n",
       "      <th>Allendale</th>\n",
       "      <th>Anderson</th>\n",
       "      <th>Bamberg</th>\n",
       "      <th>Barnwell</th>\n",
       "      <th>Beaufort</th>\n",
       "      <th>Berkeley</th>\n",
       "      <th>Calhoun</th>\n",
       "      <th>Charleston</th>\n",
       "      <th>...</th>\n",
       "      <th>Oconee</th>\n",
       "      <th>Orangeburg</th>\n",
       "      <th>Pickens</th>\n",
       "      <th>Richland</th>\n",
       "      <th>Saluda</th>\n",
       "      <th>Spartanburg</th>\n",
       "      <th>Sumter</th>\n",
       "      <th>Union</th>\n",
       "      <th>Williamsburg</th>\n",
       "      <th>York</th>\n",
       "    </tr>\n",
       "    <tr>\n",
       "      <th>date</th>\n",
       "      <th></th>\n",
       "      <th></th>\n",
       "      <th></th>\n",
       "      <th></th>\n",
       "      <th></th>\n",
       "      <th></th>\n",
       "      <th></th>\n",
       "      <th></th>\n",
       "      <th></th>\n",
       "      <th></th>\n",
       "      <th></th>\n",
       "      <th></th>\n",
       "      <th></th>\n",
       "      <th></th>\n",
       "      <th></th>\n",
       "      <th></th>\n",
       "      <th></th>\n",
       "      <th></th>\n",
       "      <th></th>\n",
       "      <th></th>\n",
       "      <th></th>\n",
       "    </tr>\n",
       "  </thead>\n",
       "  <tbody>\n",
       "    <tr>\n",
       "      <th>2020-03-06</th>\n",
       "      <td>NaN</td>\n",
       "      <td>NaN</td>\n",
       "      <td>NaN</td>\n",
       "      <td>NaN</td>\n",
       "      <td>NaN</td>\n",
       "      <td>NaN</td>\n",
       "      <td>NaN</td>\n",
       "      <td>NaN</td>\n",
       "      <td>NaN</td>\n",
       "      <td>1.0</td>\n",
       "      <td>...</td>\n",
       "      <td>NaN</td>\n",
       "      <td>NaN</td>\n",
       "      <td>NaN</td>\n",
       "      <td>NaN</td>\n",
       "      <td>NaN</td>\n",
       "      <td>NaN</td>\n",
       "      <td>NaN</td>\n",
       "      <td>NaN</td>\n",
       "      <td>NaN</td>\n",
       "      <td>NaN</td>\n",
       "    </tr>\n",
       "    <tr>\n",
       "      <th>2020-03-07</th>\n",
       "      <td>NaN</td>\n",
       "      <td>NaN</td>\n",
       "      <td>NaN</td>\n",
       "      <td>NaN</td>\n",
       "      <td>NaN</td>\n",
       "      <td>NaN</td>\n",
       "      <td>NaN</td>\n",
       "      <td>NaN</td>\n",
       "      <td>NaN</td>\n",
       "      <td>1.0</td>\n",
       "      <td>...</td>\n",
       "      <td>NaN</td>\n",
       "      <td>NaN</td>\n",
       "      <td>NaN</td>\n",
       "      <td>NaN</td>\n",
       "      <td>NaN</td>\n",
       "      <td>NaN</td>\n",
       "      <td>NaN</td>\n",
       "      <td>NaN</td>\n",
       "      <td>NaN</td>\n",
       "      <td>NaN</td>\n",
       "    </tr>\n",
       "    <tr>\n",
       "      <th>2020-03-08</th>\n",
       "      <td>NaN</td>\n",
       "      <td>NaN</td>\n",
       "      <td>NaN</td>\n",
       "      <td>NaN</td>\n",
       "      <td>NaN</td>\n",
       "      <td>NaN</td>\n",
       "      <td>NaN</td>\n",
       "      <td>NaN</td>\n",
       "      <td>NaN</td>\n",
       "      <td>1.0</td>\n",
       "      <td>...</td>\n",
       "      <td>NaN</td>\n",
       "      <td>NaN</td>\n",
       "      <td>NaN</td>\n",
       "      <td>NaN</td>\n",
       "      <td>NaN</td>\n",
       "      <td>1.0</td>\n",
       "      <td>NaN</td>\n",
       "      <td>NaN</td>\n",
       "      <td>NaN</td>\n",
       "      <td>NaN</td>\n",
       "    </tr>\n",
       "    <tr>\n",
       "      <th>2020-03-09</th>\n",
       "      <td>NaN</td>\n",
       "      <td>NaN</td>\n",
       "      <td>NaN</td>\n",
       "      <td>NaN</td>\n",
       "      <td>NaN</td>\n",
       "      <td>NaN</td>\n",
       "      <td>NaN</td>\n",
       "      <td>NaN</td>\n",
       "      <td>NaN</td>\n",
       "      <td>1.0</td>\n",
       "      <td>...</td>\n",
       "      <td>NaN</td>\n",
       "      <td>NaN</td>\n",
       "      <td>NaN</td>\n",
       "      <td>NaN</td>\n",
       "      <td>NaN</td>\n",
       "      <td>1.0</td>\n",
       "      <td>NaN</td>\n",
       "      <td>NaN</td>\n",
       "      <td>NaN</td>\n",
       "      <td>NaN</td>\n",
       "    </tr>\n",
       "    <tr>\n",
       "      <th>2020-03-10</th>\n",
       "      <td>NaN</td>\n",
       "      <td>NaN</td>\n",
       "      <td>NaN</td>\n",
       "      <td>NaN</td>\n",
       "      <td>NaN</td>\n",
       "      <td>NaN</td>\n",
       "      <td>NaN</td>\n",
       "      <td>NaN</td>\n",
       "      <td>NaN</td>\n",
       "      <td>1.0</td>\n",
       "      <td>...</td>\n",
       "      <td>NaN</td>\n",
       "      <td>NaN</td>\n",
       "      <td>NaN</td>\n",
       "      <td>NaN</td>\n",
       "      <td>NaN</td>\n",
       "      <td>1.0</td>\n",
       "      <td>NaN</td>\n",
       "      <td>NaN</td>\n",
       "      <td>NaN</td>\n",
       "      <td>NaN</td>\n",
       "    </tr>\n",
       "  </tbody>\n",
       "</table>\n",
       "<p>5 rows × 46 columns</p>\n",
       "</div>"
      ],
      "text/plain": [
       "county      Abbeville  Aiken  Allendale  Anderson  Bamberg  Barnwell  \\\n",
       "date                                                                   \n",
       "2020-03-06        NaN    NaN        NaN       NaN      NaN       NaN   \n",
       "2020-03-07        NaN    NaN        NaN       NaN      NaN       NaN   \n",
       "2020-03-08        NaN    NaN        NaN       NaN      NaN       NaN   \n",
       "2020-03-09        NaN    NaN        NaN       NaN      NaN       NaN   \n",
       "2020-03-10        NaN    NaN        NaN       NaN      NaN       NaN   \n",
       "\n",
       "county      Beaufort  Berkeley  Calhoun  Charleston  ...  Oconee  Orangeburg  \\\n",
       "date                                                 ...                       \n",
       "2020-03-06       NaN       NaN      NaN         1.0  ...     NaN         NaN   \n",
       "2020-03-07       NaN       NaN      NaN         1.0  ...     NaN         NaN   \n",
       "2020-03-08       NaN       NaN      NaN         1.0  ...     NaN         NaN   \n",
       "2020-03-09       NaN       NaN      NaN         1.0  ...     NaN         NaN   \n",
       "2020-03-10       NaN       NaN      NaN         1.0  ...     NaN         NaN   \n",
       "\n",
       "county      Pickens  Richland  Saluda  Spartanburg  Sumter  Union  \\\n",
       "date                                                                \n",
       "2020-03-06      NaN       NaN     NaN          NaN     NaN    NaN   \n",
       "2020-03-07      NaN       NaN     NaN          NaN     NaN    NaN   \n",
       "2020-03-08      NaN       NaN     NaN          1.0     NaN    NaN   \n",
       "2020-03-09      NaN       NaN     NaN          1.0     NaN    NaN   \n",
       "2020-03-10      NaN       NaN     NaN          1.0     NaN    NaN   \n",
       "\n",
       "county      Williamsburg  York  \n",
       "date                            \n",
       "2020-03-06           NaN   NaN  \n",
       "2020-03-07           NaN   NaN  \n",
       "2020-03-08           NaN   NaN  \n",
       "2020-03-09           NaN   NaN  \n",
       "2020-03-10           NaN   NaN  \n",
       "\n",
       "[5 rows x 46 columns]"
      ]
     },
     "execution_count": 43,
     "metadata": {},
     "output_type": "execute_result"
    }
   ],
   "source": [
    "# Group cases by county for each date\n",
    "#cases_sc = SC.pivot(index='date', columns='county', values='cases')\n",
    "#cases_sc = cases_sc.fillna(0.0)\n",
    "\n",
    "# Lets look at the last 10 days\n",
    "#cases_sc.head(10)\n",
    "\n",
    "# Treat data as data frame\n",
    "df2 = pd.DataFrame.pivot(SC, index='date', columns='county', values='cases')\n",
    "df2.head()"
   ]
  },
  {
   "cell_type": "markdown",
   "metadata": {},
   "source": [
    "### Plotting\n",
    "\n",
    "Let's see if we can get some more information from the data from plotting the data. Pandas has a built in plot method which calls matplotlib to plot the data. Let's see what we get when we just try to plot the data."
   ]
  },
  {
   "cell_type": "code",
   "execution_count": null,
   "metadata": {
    "scrolled": false
   },
   "outputs": [],
   "source": [
    "plot = cases_sc.plot(figsize=(12,8), linewidth=5, cmap='PuBu')\n",
    "plot.legend(ncol=2, bbox_to_anchor=(1, 1), loc='upper left')\n",
    "plt.show()"
   ]
  },
  {
   "cell_type": "code",
   "execution_count": null,
   "metadata": {
    "scrolled": false
   },
   "outputs": [],
   "source": [
    "# Show plotting inside of pandas\n",
    "plot = cases_sc.Richland.plot(figsize=(12,8), linewidth=5, legend=True)\n",
    "\n",
    "# You can also access a column by a string name\n",
    "plot = cases_sc[\"Lexington\"].plot(linewidth=5, legend=True)\n",
    "\n",
    "### TODO: Add a few more counties to this graph"
   ]
  },
  {
   "cell_type": "markdown",
   "metadata": {},
   "source": [
    "### Now let's also look at deaths instead of cases.\n",
    "TODO: re-do the last few steps from the pivot but this time for deaths. Label the new dataframe \"deaths_sc\"\n"
   ]
  },
  {
   "cell_type": "code",
   "execution_count": null,
   "metadata": {},
   "outputs": [],
   "source": [
    "# deaths_sc = ..."
   ]
  },
  {
   "cell_type": "markdown",
   "metadata": {},
   "source": []
  },
  {
   "cell_type": "code",
   "execution_count": null,
   "metadata": {},
   "outputs": [],
   "source": [
    "# Copy data\n",
    "new_per_day = cases_sc.copy(deep=True)\n",
    "\n",
    "# Get difference per day instead of total cases\n",
    "for county in cases_sc.columns:\n",
    "    new_per_day[county] = new_per_day[county].diff()\n",
    "    \n",
    "new_per_day = new_per_day.fillna(0.0)\n",
    "new_per_day.tail(5) \n"
   ]
  },
  {
   "cell_type": "code",
   "execution_count": null,
   "metadata": {},
   "outputs": [],
   "source": [
    "# Plot difference\n",
    "plot = new_per_day.Richland.plot(figsize=(12,8), linewidth=3, legend=True)\n",
    "# Looks jumpy...."
   ]
  },
  {
   "cell_type": "markdown",
   "metadata": {},
   "source": [
    "### Let's make this look better\n",
    "\n",
    "We're going to use [matplotlib](https://matplotlib.org/3.1.1/index.html) to plot these graphs instead of the builtin plotting function. Sometimes when we want to add more features to our plots it is easier to use matplotlib instead of pandas built in plotting."
   ]
  },
  {
   "cell_type": "code",
   "execution_count": null,
   "metadata": {
    "scrolled": false
   },
   "outputs": [],
   "source": [
    "# Setup Figure (fig) and Axes (ax)\n",
    "fig, ax = plt.subplots(figsize=(12,8))\n",
    "\n",
    "# This function converts our dates into numbers so matplotlib can plot them\n",
    "dates = date2num(cases_sc.index)\n",
    "# We setup how the date format and put them onto the axes\n",
    "date_form = DateFormatter(\"%b-%d\")\n",
    "ax.xaxis.set_major_formatter(date_form)\n",
    "\n",
    "# Lets get the new cases per day for Richland county\n",
    "npd_richland = new_per_day.Richland\n",
    "\n",
    "# Then we'll plot it with plot_dates functon\n",
    "ax.plot_date(dates, npd_richland, fmt='-', linewidth=3)\n",
    "\n",
    "# Show our plot at the end\n",
    "plt.show()"
   ]
  },
  {
   "cell_type": "markdown",
   "metadata": {},
   "source": [
    "We've repoduced our plot from before let's customize it some more. To get rid of the large jumps in our data we can do a rolling mean over the data we have."
   ]
  },
  {
   "cell_type": "code",
   "execution_count": null,
   "metadata": {},
   "outputs": [],
   "source": [
    "# Setup Figure (fig) and Axes (ax)\n",
    "fig, ax = plt.subplots(figsize=(12,8))\n",
    "\n",
    "# This function converts our dates into numbers so matplotlib can plot them\n",
    "dates = date2num(cases_sc.index)\n",
    "# We setup how the date format and put them onto the axes\n",
    "date_form = DateFormatter(\"%b-%d\")\n",
    "ax.xaxis.set_major_formatter(date_form)\n",
    "\n",
    "# Lets get the new cases per day for Richland county\n",
    "npd_richland = new_per_day.Richland\n",
    "\n",
    "#### Let's average over the last two weeks and plot it\n",
    "rolling_days = 14\n",
    "npd_richland_avg = new_per_day.Richland.rolling(rolling_days).mean()\n",
    "####\n",
    "\n",
    "\n",
    "# Then we'll plot it with plot_dates functon\n",
    "ax.plot_date(dates, npd_richland_avg, fmt='-', linewidth=3)\n",
    "\n",
    "# Show our plot at the end\n",
    "plt.show()"
   ]
  },
  {
   "cell_type": "markdown",
   "metadata": {},
   "source": [
    "## Great our plot is looking a bit better now\n",
    "\n",
    "Now let's add a bar graph to show the original new per day data."
   ]
  },
  {
   "cell_type": "code",
   "execution_count": null,
   "metadata": {},
   "outputs": [],
   "source": [
    "# Setup Figure (fig) and Axes (ax)\n",
    "fig, ax = plt.subplots(figsize=(12,8))\n",
    "\n",
    "# This function converts our dates into numbers so matplotlib can plot them\n",
    "dates = date2num(cases_sc.index)\n",
    "# We setup how the date format and put them onto the axes\n",
    "date_form = DateFormatter(\"%b-%d\")\n",
    "ax.xaxis.set_major_formatter(date_form)\n",
    "\n",
    "# Lets get the new cases per day for Richland county\n",
    "npd_richland = new_per_day.Richland\n",
    "\n",
    "#### We'll add a bar graph to our axes now that is a little lighter in color (alpha)\n",
    "ax.bar(dates, npd_richland, alpha=0.2)\n",
    "###\n",
    "\n",
    "# Let's average over the last two weeks and plot it\n",
    "rolling_days = 14\n",
    "npd_richland_avg = new_per_day.Richland.rolling(rolling_days).mean()\n",
    "\n",
    "# Then we'll plot it with plot_dates functon\n",
    "ax.plot_date(dates, npd_richland_avg, fmt='-', linewidth=3)\n",
    "\n",
    "# Show our plot at the end\n",
    "plt.show()"
   ]
  },
  {
   "cell_type": "markdown",
   "metadata": {},
   "source": [
    "## Let's finish by putting a trendline for the last two weeks"
   ]
  },
  {
   "cell_type": "code",
   "execution_count": null,
   "metadata": {},
   "outputs": [],
   "source": [
    "# Setup Figure (fig) and Axes (ax)\n",
    "fig, ax = plt.subplots(figsize=(12,8))\n",
    "\n",
    "# This function converts our dates into numbers so matplotlib can plot them\n",
    "dates = date2num(cases_sc.index)\n",
    "# We setup how the date format and put them onto the axes\n",
    "date_form = DateFormatter(\"%b-%d\")\n",
    "ax.xaxis.set_major_formatter(date_form)\n",
    "\n",
    "# Lets get the new cases per day for Richland county\n",
    "npd_richland = new_per_day.Richland\n",
    "\n",
    "# We'll add a bar graph to our axes now that is a little lighter in color (alpha)\n",
    "ax.bar(dates, npd_richland, alpha=0.2)\n",
    "\n",
    "# Let's average over the last two weeks and plot it\n",
    "rolling_days = 14\n",
    "npd_richland_avg = new_per_day.Richland.rolling(rolling_days).mean()\n",
    "\n",
    "# Then we'll plot it with plot_dates functon\n",
    "ax.plot_date(dates, npd_richland_avg, fmt='-', linewidth=3)\n",
    "\n",
    "### Plot trend line for the last set of days averaged over\n",
    "z = np.polyfit(dates[-rolling_days:], npd_richland_avg[-rolling_days:], 1)\n",
    "p = np.poly1d(z)\n",
    "ax.plot(dates[-rolling_days:],p(dates[-rolling_days:]),'-', linewidth=4, label=f'Trend for last {rolling_days} days')\n",
    "###\n",
    "\n",
    "\n",
    "# Show our plot at the end\n",
    "plt.legend()\n",
    "plt.show()"
   ]
  },
  {
   "cell_type": "markdown",
   "metadata": {},
   "source": [
    "## Let's make a Map\n",
    "\n",
    "We're going to use the geopandas to plot our data. There are a ton of different maps availible that work with geopandas on this [github page](https://github.com/deldersveld/topojson)."
   ]
  },
  {
   "cell_type": "code",
   "execution_count": null,
   "metadata": {
    "scrolled": false
   },
   "outputs": [],
   "source": [
    "# Get geometry data\n",
    "# https://github.com/deldersveld/topojson\n",
    "\n",
    "JSON_url = \"https://raw.githubusercontent.com/deldersveld/topojson/master/countries/us-states\"\n",
    "SC_json = \"SC-45-south-carolina-counties\"\n",
    "\n",
    "geodata = geopandas.read_file(JSON_url+\"/\"+SC_json+\".json\")\n",
    "\n",
    "geodata.head()"
   ]
  },
  {
   "cell_type": "code",
   "execution_count": null,
   "metadata": {
    "scrolled": false
   },
   "outputs": [],
   "source": [
    "# Make a new figure and axis\n",
    "fig, ax = plt.subplots(figsize=(16,9))\n",
    "# Plot the outlines of SC\n",
    "geodata.plot(color=\"white\", edgecolor='black', ax=ax)\n",
    "\n",
    "plt.show()"
   ]
  },
  {
   "cell_type": "markdown",
   "metadata": {},
   "source": [
    "## To add color we can add a new column based on our current cases\n",
    "\n",
    "Let's look at our cases dataframe and see how we'll match it to the plot."
   ]
  },
  {
   "cell_type": "code",
   "execution_count": null,
   "metadata": {},
   "outputs": [],
   "source": [
    "cases_sc.tail(3)"
   ]
  },
  {
   "cell_type": "code",
   "execution_count": null,
   "metadata": {},
   "outputs": [],
   "source": [
    "# Make a new figure and axis\n",
    "fig, ax = plt.subplots(figsize=(16,9))\n",
    "# Plot the outlines of SC\n",
    "geodata.plot(color=\"white\", edgecolor='black', ax=ax)\n",
    "\n",
    "#### First we add a new column for our colors\n",
    "geodata[\"color\"] = np.zeros_like(geodata.NAME)\n",
    "\n",
    "#### Now we can match our data from our cases_sc dataframe, \n",
    "#### to our plotting dataframe using the name of the county\n",
    "\n",
    "# iteritems will return the  and the column name (In this case our county names)\n",
    "# And the entire column of data (Our numbers)\n",
    "for county_name, county_nums in cases_sc.iteritems():\n",
    "    # To get the most recent we can get the -1 index\n",
    "    most_recent_num = county_nums[-1]\n",
    "    # We want to put the value for our most recent cases in the color part\n",
    "    # Only for the location of the row of the geodata that is the same as our county name\n",
    "    geodata.loc[geodata.NAME == county_name, 'color'] = most_recent_num\n",
    "\n",
    "# And plot based on the new color cloumn\n",
    "geodata.plot(column='color', ax=ax, cmap='PuBu')\n",
    "####\n",
    "\n",
    "ax.set_title(\"Current Cases in SC\")\n",
    "ax.set_yticklabels([])\n",
    "ax.set_xticklabels([])\n",
    "ax.get_yaxis().set_visible(False)\n",
    "ax.get_xaxis().set_visible(False)\n",
    "plt.show()"
   ]
  },
  {
   "cell_type": "markdown",
   "metadata": {},
   "source": [
    "### Try to make some more plots on your own"
   ]
  },
  {
   "cell_type": "code",
   "execution_count": null,
   "metadata": {},
   "outputs": [],
   "source": []
  }
 ],
 "metadata": {
  "kernelspec": {
   "display_name": "Python 3",
   "language": "python",
   "name": "python3"
  },
  "language_info": {
   "codemirror_mode": {
    "name": "ipython",
    "version": 3
   },
   "file_extension": ".py",
   "mimetype": "text/x-python",
   "name": "python",
   "nbconvert_exporter": "python",
   "pygments_lexer": "ipython3",
   "version": "3.8.3"
  }
 },
 "nbformat": 4,
 "nbformat_minor": 2
}
