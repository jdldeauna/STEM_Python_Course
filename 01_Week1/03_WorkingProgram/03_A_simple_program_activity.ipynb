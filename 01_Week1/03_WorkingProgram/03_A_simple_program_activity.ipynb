{
 "cells": [
  {
   "cell_type": "markdown",
   "metadata": {},
   "source": [
    "This activity will guide you through a series of steps necessary to create your first working program. You should use the references you were introduced to yesterday, as well as the information you learned about reading documentation and Stack Overflow threads to complete this activity. If you complete the activity quickly, you may add extra features to this program (some suggestions at the bottom), or move on to a more complicated activity in this same folder."
   ]
  },
  {
   "cell_type": "markdown",
   "metadata": {},
   "source": [
    "# 1a \n",
    "You're going to the grocery store to shop for food. Create some items for your list, setting each variable equal to the number of that item that you need to buy. Print the items in your grocery list."
   ]
  },
  {
   "cell_type": "code",
   "execution_count": 1,
   "metadata": {},
   "outputs": [
    {
     "name": "stdout",
     "output_type": "stream",
     "text": [
      "apples:  4\n",
      "cookies:  12\n",
      "chips:  2\n"
     ]
    }
   ],
   "source": [
    "# A\n",
    "apples = 4\n",
    "cookies = 12\n",
    "chips = 2\n",
    "print('apples: ',apples)\n",
    "print('cookies: ',cookies)\n",
    "print('chips: ',chips)"
   ]
  },
  {
   "cell_type": "code",
   "execution_count": 2,
   "metadata": {},
   "outputs": [
    {
     "ename": "SyntaxError",
     "evalue": "cannot assign to literal (<ipython-input-2-c215dfa72404>, line 2)",
     "output_type": "error",
     "traceback": [
      "\u001b[0;36m  File \u001b[0;32m\"<ipython-input-2-c215dfa72404>\"\u001b[0;36m, line \u001b[0;32m2\u001b[0m\n\u001b[0;31m    apples = 4, cookies = 12, chips = 2\u001b[0m\n\u001b[0m             ^\u001b[0m\n\u001b[0;31mSyntaxError\u001b[0m\u001b[0;31m:\u001b[0m cannot assign to literal\n"
     ]
    }
   ],
   "source": [
    "# B\n",
    "apples = 4, cookies = 12, chips = 2\n",
    "print('apples: ',apples)\n",
    "print('cookies: ',cookies)\n",
    "print('chips: ',chips)"
   ]
  },
  {
   "cell_type": "code",
   "execution_count": 3,
   "metadata": {},
   "outputs": [
    {
     "ename": "SyntaxError",
     "evalue": "Missing parentheses in call to 'print'. Did you mean print('apples: ',apples)? (<ipython-input-3-7ed77d89e681>, line 5)",
     "output_type": "error",
     "traceback": [
      "\u001b[0;36m  File \u001b[0;32m\"<ipython-input-3-7ed77d89e681>\"\u001b[0;36m, line \u001b[0;32m5\u001b[0m\n\u001b[0;31m    print 'apples: ',apples\u001b[0m\n\u001b[0m          ^\u001b[0m\n\u001b[0;31mSyntaxError\u001b[0m\u001b[0;31m:\u001b[0m Missing parentheses in call to 'print'. Did you mean print('apples: ',apples)?\n"
     ]
    }
   ],
   "source": [
    "# C\n",
    "apples = 4\n",
    "cookies = 12\n",
    "chips = 2\n",
    "print 'apples: ',apples\n",
    "print 'cookies: ',cookies\n",
    "print 'chips: ',chips"
   ]
  },
  {
   "cell_type": "markdown",
   "metadata": {},
   "source": [
    "# 1b\n",
    "You've forgotten how many apples you need to buy and don't want to look at your list to find out. Add a second variable called ``guessApples``, and set it to be a guess at the number of apples you needed. Then add an if/else statement that checks if ``guessApples`` and ``apples`` are the same number. If they are, print \"Right, I needed that many!\", otherwise print \"Hmm, not the right number.\" You can remove the print statement from the previous problem."
   ]
  },
  {
   "cell_type": "code",
   "execution_count": 4,
   "metadata": {},
   "outputs": [
    {
     "name": "stdout",
     "output_type": "stream",
     "text": [
      "apples:  4\n",
      "cookies:  12\n",
      "chips:  2\n"
     ]
    }
   ],
   "source": [
    "####PASTE YOUR ANSWER FROM PROBLEM 1a HERE (and run) ######\n",
    "apples = 4\n",
    "cookies = 12\n",
    "chips = 2\n",
    "print('apples: ',apples)\n",
    "print('cookies: ',cookies)\n",
    "print('chips: ',chips)"
   ]
  },
  {
   "cell_type": "code",
   "execution_count": 5,
   "metadata": {},
   "outputs": [
    {
     "name": "stdout",
     "output_type": "stream",
     "text": [
      "Try again.\n",
      "Try again.\n",
      "Try again.\n",
      "Try again.\n"
     ]
    }
   ],
   "source": [
    "# A\n",
    "guessApples = 23\n",
    "for number in [7,4,2,8]:\n",
    "    if number == guessApples:\n",
    "        print('You got it!')\n",
    "    else:\n",
    "        print('Try again.')"
   ]
  },
  {
   "cell_type": "code",
   "execution_count": 6,
   "metadata": {},
   "outputs": [
    {
     "name": "stdout",
     "output_type": "stream",
     "text": [
      "Try again.\n"
     ]
    }
   ],
   "source": [
    "# B\n",
    "guessApples = 8\n",
    "if guessApples == apples:\n",
    "    print('You got it!')\n",
    "else:\n",
    "    print('Try again.')"
   ]
  },
  {
   "cell_type": "code",
   "execution_count": 7,
   "metadata": {},
   "outputs": [
    {
     "name": "stdout",
     "output_type": "stream",
     "text": [
      "You got it!\n"
     ]
    }
   ],
   "source": [
    "# C\n",
    "guessApples = 18\n",
    "if guessApples != apples:\n",
    "    print('You got it!')\n",
    "else:\n",
    "    print('Try again.')"
   ]
  },
  {
   "cell_type": "markdown",
   "metadata": {},
   "source": [
    "# 1c\n",
    "Okay it's too hard for you to guess the number of apples you need from scratch. Ammend your if/else statement to have some extra conditions. Instead of just checking to see if the numbers are equal, check if the guess is less than, greater than, or equal to your number. Print whichever case it is. For example if the number of apples you need is 10 and the guess is 4, it should print something like \"Too low!\"."
   ]
  },
  {
   "cell_type": "code",
   "execution_count": 8,
   "metadata": {},
   "outputs": [
    {
     "name": "stdout",
     "output_type": "stream",
     "text": [
      "Try again.\n"
     ]
    }
   ],
   "source": [
    "####Paste your grocery list and \"guessApples\" variable declarations here (and run). \n",
    "apples = 4\n",
    "cookies = 12\n",
    "chips = 2\n",
    "\n",
    "guessApples = 8\n",
    "if guessApples == apples:\n",
    "    print('You got it!')\n",
    "else:\n",
    "    print('Try again.')"
   ]
  },
  {
   "cell_type": "code",
   "execution_count": 9,
   "metadata": {},
   "outputs": [
    {
     "name": "stdout",
     "output_type": "stream",
     "text": [
      "Too high!\n"
     ]
    }
   ],
   "source": [
    "# A\n",
    "if guessApples < apples:\n",
    "    print('Too low!')\n",
    "elif guessApples > apples:\n",
    "    print('Too high!')\n",
    "else:\n",
    "    print('You got it!')"
   ]
  },
  {
   "cell_type": "code",
   "execution_count": 10,
   "metadata": {},
   "outputs": [
    {
     "name": "stdout",
     "output_type": "stream",
     "text": [
      "Too high!\n"
     ]
    }
   ],
   "source": [
    "# B\n",
    "if guessApples == apples:\n",
    "    print('Too low!')\n",
    "elif guessApples > apples:\n",
    "    print('Too high!')\n",
    "else:\n",
    "    print('You got it!')"
   ]
  },
  {
   "cell_type": "code",
   "execution_count": 11,
   "metadata": {},
   "outputs": [
    {
     "name": "stdout",
     "output_type": "stream",
     "text": [
      "You got it!\n"
     ]
    }
   ],
   "source": [
    "# C\n",
    "if guessApples != apples:\n",
    "    print('You got it!')\n",
    "elif guessApples > apples:\n",
    "    print('Too high!')\n",
    "else:\n",
    "    print('Too low!') "
   ]
  },
  {
   "cell_type": "markdown",
   "metadata": {},
   "source": [
    "# 1d\n",
    "You don't want to have to physically change your guess every time, wouldn't it be nice if you were prompted for a guess and you could type it in? Replace the \"guessApples\" variable from problem 1b with an input number that you can type in to guess. You can input a number using the \"input\" function. Have the input function print something like \"What is your guess?\". Note that any input will arrive as a \"string\" type, whereas the variable you'll be comparing against will be of \"integer\" type. You can convert from string to integer using the \"int()\" function. Other than this, leave everything the same."
   ]
  },
  {
   "cell_type": "code",
   "execution_count": 12,
   "metadata": {},
   "outputs": [
    {
     "name": "stdout",
     "output_type": "stream",
     "text": [
      "What is your guess?7\n",
      "Too high!\n"
     ]
    }
   ],
   "source": [
    "####PASTE YOUR FINAL CODE FROM PROBLEM 1c HERE. Replace the \"guess\" variable with #######\n",
    "# one of the following (and run)\n",
    "\n",
    "guessApples = int(input('What is your guess?'))\n",
    "if guessApples < apples:\n",
    "    print('Too low!')\n",
    "elif guessApples > apples:\n",
    "    print('Too high!')\n",
    "else:\n",
    "    print('You got it!')"
   ]
  },
  {
   "cell_type": "code",
   "execution_count": 13,
   "metadata": {},
   "outputs": [
    {
     "name": "stdout",
     "output_type": "stream",
     "text": [
      "What is your guess?\n"
     ]
    }
   ],
   "source": [
    "# A \n",
    "print('What is your guess?')\n",
    "guessApples = 17"
   ]
  },
  {
   "cell_type": "code",
   "execution_count": 14,
   "metadata": {},
   "outputs": [
    {
     "name": "stdout",
     "output_type": "stream",
     "text": [
      "What is your guess?f\n"
     ]
    }
   ],
   "source": [
    "# B\n",
    "guessApples = input('What is your guess?')"
   ]
  },
  {
   "cell_type": "code",
   "execution_count": 16,
   "metadata": {},
   "outputs": [
    {
     "name": "stdout",
     "output_type": "stream",
     "text": [
      "What is your guess?7\n"
     ]
    }
   ],
   "source": [
    "# C\n",
    "guessApples = int(input('What is your guess?'))"
   ]
  },
  {
   "cell_type": "markdown",
   "metadata": {},
   "source": [
    "You should now have a working program that allows you create a grocery list, then to guess how many apples you said you needed in your grocery list. It tells you if it was too low, too high, or just right compared to the number of apples you set in your grocery list. "
   ]
  },
  {
   "cell_type": "markdown",
   "metadata": {},
   "source": [
    "# 2a\n",
    "You decide it would be easier to remember how many apples you needed for your trip to the store if you printed the number of apples multiple times, instead of just once. Use a for loop to print the number of apples you need to buy, ``number_of_prints`` number of times. So for example if your grocery list said you needed 5 apples, and \"number_of_prints\" was set to 3, running your cell should produce the following:\n",
    "\n",
    "apples: 5\n",
    "\n",
    "apples: 5\n",
    "\n",
    "apples: 5"
   ]
  },
  {
   "cell_type": "code",
   "execution_count": 17,
   "metadata": {},
   "outputs": [
    {
     "ename": "TypeError",
     "evalue": "'float' object cannot be interpreted as an integer",
     "output_type": "error",
     "traceback": [
      "\u001b[0;31m--------------------------------------------------------\u001b[0m",
      "\u001b[0;31mTypeError\u001b[0m              Traceback (most recent call last)",
      "\u001b[0;32m<ipython-input-17-9683d282492a>\u001b[0m in \u001b[0;36m<module>\u001b[0;34m\u001b[0m\n\u001b[1;32m      2\u001b[0m \u001b[0mapples\u001b[0m \u001b[0;34m=\u001b[0m \u001b[0;36m4\u001b[0m\u001b[0;34m\u001b[0m\u001b[0;34m\u001b[0m\u001b[0m\n\u001b[1;32m      3\u001b[0m \u001b[0mnumber_of_prints\u001b[0m \u001b[0;34m=\u001b[0m \u001b[0;36m8.3\u001b[0m\u001b[0;34m\u001b[0m\u001b[0;34m\u001b[0m\u001b[0m\n\u001b[0;32m----> 4\u001b[0;31m \u001b[0;32mfor\u001b[0m \u001b[0mi\u001b[0m \u001b[0;32min\u001b[0m \u001b[0mrange\u001b[0m\u001b[0;34m(\u001b[0m\u001b[0mnumber_of_prints\u001b[0m\u001b[0;34m)\u001b[0m\u001b[0;34m:\u001b[0m\u001b[0;34m\u001b[0m\u001b[0;34m\u001b[0m\u001b[0m\n\u001b[0m\u001b[1;32m      5\u001b[0m     \u001b[0mprint\u001b[0m\u001b[0;34m(\u001b[0m\u001b[0;34m'apples: '\u001b[0m\u001b[0;34m,\u001b[0m \u001b[0mapples\u001b[0m\u001b[0;34m)\u001b[0m\u001b[0;34m\u001b[0m\u001b[0;34m\u001b[0m\u001b[0m\n",
      "\u001b[0;31mTypeError\u001b[0m: 'float' object cannot be interpreted as an integer"
     ]
    }
   ],
   "source": [
    "# A\n",
    "apples = 4\n",
    "number_of_prints = 8.3\n",
    "for i in range(number_of_prints):\n",
    "    print('apples: ', apples)"
   ]
  },
  {
   "cell_type": "code",
   "execution_count": 18,
   "metadata": {},
   "outputs": [
    {
     "name": "stdout",
     "output_type": "stream",
     "text": [
      "apples:  4\n",
      "apples:  4\n",
      "apples:  4\n",
      "apples:  4\n",
      "apples:  4\n"
     ]
    }
   ],
   "source": [
    "# B\n",
    "apples = 4\n",
    "number_of_prints = 5\n",
    "for i in range(number_of_prints):\n",
    "    print('apples: ', apples)"
   ]
  },
  {
   "cell_type": "code",
   "execution_count": 19,
   "metadata": {},
   "outputs": [
    {
     "ename": "TypeError",
     "evalue": "'int' object is not iterable",
     "output_type": "error",
     "traceback": [
      "\u001b[0;31m--------------------------------------------------------\u001b[0m",
      "\u001b[0;31mTypeError\u001b[0m              Traceback (most recent call last)",
      "\u001b[0;32m<ipython-input-19-d3727a58ed4b>\u001b[0m in \u001b[0;36m<module>\u001b[0;34m\u001b[0m\n\u001b[1;32m      2\u001b[0m \u001b[0mapples\u001b[0m \u001b[0;34m=\u001b[0m \u001b[0;36m4\u001b[0m\u001b[0;34m\u001b[0m\u001b[0;34m\u001b[0m\u001b[0m\n\u001b[1;32m      3\u001b[0m \u001b[0mnumber_of_prints\u001b[0m \u001b[0;34m=\u001b[0m \u001b[0;36m5\u001b[0m\u001b[0;34m\u001b[0m\u001b[0;34m\u001b[0m\u001b[0m\n\u001b[0;32m----> 4\u001b[0;31m \u001b[0;32mfor\u001b[0m \u001b[0mi\u001b[0m \u001b[0;32min\u001b[0m \u001b[0mnumber_of_prints\u001b[0m\u001b[0;34m:\u001b[0m\u001b[0;34m\u001b[0m\u001b[0;34m\u001b[0m\u001b[0m\n\u001b[0m\u001b[1;32m      5\u001b[0m     \u001b[0mprint\u001b[0m\u001b[0;34m(\u001b[0m\u001b[0;34m'apples: '\u001b[0m\u001b[0;34m,\u001b[0m \u001b[0mapples\u001b[0m\u001b[0;34m)\u001b[0m\u001b[0;34m\u001b[0m\u001b[0;34m\u001b[0m\u001b[0m\n",
      "\u001b[0;31mTypeError\u001b[0m: 'int' object is not iterable"
     ]
    }
   ],
   "source": [
    "# C\n",
    "apples = 4\n",
    "number_of_prints = 5\n",
    "for i in number_of_prints:\n",
    "    print('apples: ', apples)"
   ]
  },
  {
   "cell_type": "markdown",
   "metadata": {},
   "source": [
    "# 2b\n",
    "Okay it didn't work, you're still having a lot of trouble remembering how many apples you need so you'll have to go back to guessing the number. Instead of just asking for and checking a single guess at a time though (which is wasting your valuable shopping time), you realize you can use your code from 2a and problem 1d to ask for a new guess on every loop iteration, then print it. Don't worry about checking your guess against your grocery list at the moment, just print your guess on each iteration. You should be able to copy and paste the line of code containing the \"input\" function from 1d into your code from 2a, inside of the for loop (replacing the print statement). "
   ]
  },
  {
   "cell_type": "code",
   "execution_count": 23,
   "metadata": {},
   "outputs": [
    {
     "name": "stdout",
     "output_type": "stream",
     "text": [
      "What is your guess?4\n",
      "4\n",
      "What is your guess?5\n",
      "5\n",
      "What is your guess?5\n",
      "5\n",
      "What is your guess?7\n",
      "7\n",
      "What is your guess?9\n",
      "9\n"
     ]
    }
   ],
   "source": [
    "####COMBINE 1d and 2a BELOW####\n",
    "# When run, you should be asked to input a guess \"number_of_prints\" times.\n",
    "\n",
    "number_of_guesses = 5\n",
    "\n",
    "for i in range(number_of_guesses):\n",
    "    guessApples = int(input('What is your guess?'))\n",
    "    print(guessApples)\n",
    "\n"
   ]
  },
  {
   "cell_type": "markdown",
   "metadata": {},
   "source": [
    "###### 3 \n",
    "Okay you're ready to have your cool looping guess program check each guess against your grocery list. Take the rest of your code from problem 1 (the if/else statement) and put it inside of the for loop as well. The code should now ask for a guess (called ``guessApples``) on every loop iteration, and compare it to the ``apples`` variable. "
   ]
  },
  {
   "cell_type": "code",
   "execution_count": 29,
   "metadata": {},
   "outputs": [
    {
     "name": "stdout",
     "output_type": "stream",
     "text": [
      "What is your guess?3\n",
      "3\n",
      "Too low!\n",
      "What is your guess?2\n",
      "2\n",
      "Too low!\n",
      "What is your guess?5\n",
      "5\n",
      "Too high!\n",
      "What is your guess?4\n",
      "4\n",
      "You got it!\n",
      "Number of guesses 4\n"
     ]
    }
   ],
   "source": [
    "####ADD YOUR SOLUTION TO PART 1d to your solution to 2b\n",
    "\n",
    "apples = 4\n",
    "number_of_guesses = 5\n",
    "\n",
    "for i in range(number_of_guesses):\n",
    "    guessApples = int(input('What is your guess?'))\n",
    "    print(guessApples)\n",
    "    if guessApples < apples:\n",
    "        print('Too low!')\n",
    "    elif guessApples > apples:\n",
    "        print('Too high!')\n",
    "    else:\n",
    "        print('You got it!')\n",
    "        print('Number of guesses',i+1)\n",
    "        break\n",
    "\n",
    "\n"
   ]
  },
  {
   "cell_type": "markdown",
   "metadata": {},
   "source": [
    "###### That's it!\n",
    "You wrote a simple guessing game! Some optional stuff to add:\n",
    "\n",
    "1. Have the loop stop if you get the answer right. This can be done with the \"break\" statement.\n",
    "\n",
    "2. Keep track of the number of guesses on each loop iteration. When the guess is eventually correct, print the number of tries in addition to the statement that says the guess was correct. "
   ]
  },
  {
   "cell_type": "code",
   "execution_count": null,
   "metadata": {},
   "outputs": [],
   "source": []
  }
 ],
 "metadata": {
  "kernelspec": {
   "display_name": "Python 3",
   "language": "python",
   "name": "python3"
  },
  "language_info": {
   "codemirror_mode": {
    "name": "ipython",
    "version": 3
   },
   "file_extension": ".py",
   "mimetype": "text/x-python",
   "name": "python",
   "nbconvert_exporter": "python",
   "pygments_lexer": "ipython3",
   "version": "3.8.3"
  }
 },
 "nbformat": 4,
 "nbformat_minor": 2
}
